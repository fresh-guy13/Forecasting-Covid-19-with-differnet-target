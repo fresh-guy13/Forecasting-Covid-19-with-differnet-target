{
 "cells": [
  {
   "cell_type": "code",
   "execution_count": 66,
   "metadata": {},
   "outputs": [
    {
     "name": "stdout",
     "output_type": "stream",
     "text": [
      "{'AL': 'Alabama', 'AK': 'Alaska', 'AZ': 'Arizona', 'AR': 'Arkansas', 'CA': 'California', 'CO': 'Colorado', 'CT': 'Connecticut', 'DE': 'Delaware', 'DC': 'District of Columbia', 'FL': 'Florida', 'GA': 'Georgia', 'HI': 'Hawaii', 'ID': 'Idaho', 'IL': 'Illinois', 'IN': 'Indiana', 'IA': 'Iowa', 'KS': 'Kansas', 'KY': 'Kentucky', 'LA': 'Louisiana', 'ME': 'Maine', 'MD': 'Maryland', 'MA': 'Massachusetts', 'MI': 'Michigan', 'MN': 'Minnesota', 'MS': 'Mississippi', 'MO': 'Missouri', 'MT': 'Montana', 'NE': 'Nebraska', 'NV': 'Nevada', 'NH': 'New Hampshire', 'NJ': 'New Jersey', 'NM': 'New Mexico', 'NY': 'New York', 'NC': 'North Carolina', 'ND': 'North Dakota', 'OH': 'Ohio', 'OK': 'Oklahoma', 'OR': 'Oregon', 'PA': 'Pennsylvania', 'RI': 'Rhode Island', 'SC': 'South Carolina', 'SD': 'South Dakota', 'TN': 'Tennessee', 'TX': 'Texas', 'UT': 'Utah', 'VT': 'Vermont', 'VA': 'Virginia', 'WA': 'Washington', 'WV': 'West Virginia', 'WI': 'Wisconsin', 'WY': 'Wyoming'}\n"
     ]
    }
   ],
   "source": [
    "import pandas as pd\n",
    "df_state = pd.read_csv('./us-states.csv')\n",
    "\n",
    "#State-code dict\n",
    "Code_map = {}\n",
    "df = pd.read_csv('../state_code.csv')\n",
    "for idx, row in df.iterrows():\n",
    "    Code_map[row['Code']] =  row['State']\n",
    "print(Code_map)\n"
   ]
  },
  {
   "cell_type": "markdown",
   "metadata": {},
   "source": [
    "### DF population density"
   ]
  },
  {
   "cell_type": "code",
   "execution_count": 89,
   "metadata": {},
   "outputs": [
    {
     "name": "stdout",
     "output_type": "stream",
     "text": [
      "{'New York': 27545, 'California': 8837, 'Illinois': 5423, 'Florida': 8413, 'Texas': 8293, 'Pennsylvania': 6042, 'Georgia': 2695, 'District of Columbia': 4457, 'Massachusetts': 7619, 'Arizona': 4436, 'Washington': 3469, 'Michigan': 3980, 'Minnesota': 4283, 'Colorado': 4102, 'Maryland': 34277, 'Nevada': 2475, 'Oregon': 3700, 'Missouri': 3644, 'Ohio': 3460, 'Indiana': 2205, 'North Carolina': 2053, 'Virginia': 4948, 'Wisconsin': 3192, 'Rhode Island': 6320, 'Utah': 3028, 'Tennessee': 1004, 'Louisiana': 2628, 'Kentucky': 6406, 'Oklahoma': 1482, 'Connecticut': 3470, 'Nebraska': 1702, 'Hawaii': 5749, 'New Mexico': 3237, 'Alabama': 1223, 'South Carolina': 1490, 'Kansas': 2475, 'Iowa': 2300, 'Arkansas': 1086, 'Idaho': 1436, 'Mississippi': 2229, 'Puerto Rico': 5949, 'New Jersey': 22246, 'Alaska': 838, 'New Hampshire': 1315, 'North Dakota': 1293, 'Maine': 1185, 'South Dakota': 1205, 'West Virginia': 1965, 'Montana': 1439, 'Delaware': 2536, 'Vermont': 1974, 'Wyoming': 1378}\n",
      "{'New York': 'New York', 'California': 'Los Angeles', 'Illinois': 'Cook', 'Florida': 'Miami-Dade', 'Texas': 'Starr', 'Pennsylvania': 'Delaware', 'Georgia': 'DeKalb', 'District of Columbia': 'District of Columbia', 'Massachusetts': 'Middlesex', 'Arizona': 'Yuma', 'Washington': 'King', 'Michigan': 'Wayne', 'Minnesota': 'Washington', 'Colorado': 'Arapahoe', 'Maryland': 'Montgomery', 'Nevada': 'Clark', 'Oregon': 'Marion', 'Missouri': 'St. Louis', 'Ohio': 'Cuyahoga', 'Indiana': 'Porter', 'North Carolina': 'Union', 'Virginia': 'Fairfax', 'Wisconsin': 'Milwaukee', 'Rhode Island': 'Providence', 'Utah': 'Salt Lake', 'Tennessee': 'Hamilton', 'Louisiana': 'Jefferson', 'Kentucky': 'Jefferson', 'Oklahoma': 'Alfalfa', 'Connecticut': 'Fairfield', 'Nebraska': 'Douglas', 'Hawaii': 'Honolulu', 'New Mexico': 'Eddy', 'Alabama': 'Jefferson', 'South Carolina': 'Berkeley', 'Kansas': 'Sedgwick', 'Iowa': 'Scott', 'Arkansas': 'Desha', 'Idaho': 'Latah', 'Mississippi': 'Lafayette', 'Puerto Rico': 'Caguas', 'New Jersey': 'Hudson', 'Alaska': 'Ketchikan Gateway', 'New Hampshire': 'Hillsborough', 'North Dakota': 'Sioux', 'Maine': 'Cumberland', 'South Dakota': 'Lincoln', 'West Virginia': 'Jefferson', 'Montana': 'Gallatin', 'Delaware': 'New Castle', 'Vermont': 'Chittenden', 'Wyoming': 'Teton'}\n"
     ]
    }
   ],
   "source": [
    "df_density = pd.read_csv(\"../uscities_population.csv\")\n",
    "state_den = {}\n",
    "state_county_highD = {}\n",
    "for idx, row in df_density.iterrows():\n",
    "    if row['state_name'] not in state_den:\n",
    "        state_den[row['state_name']] = row['density']\n",
    "        state_county_highD[row['state_name']] = row['county_name']\n",
    "    else:\n",
    "        if (state_den[row['state_name']] < row['density']):\n",
    "            state_den[row['state_name']] = row['density']\n",
    "            state_county_highD[row['state_name']] = row['county_name']\n",
    "\n",
    "print(state_den)\n",
    "print(state_county_highD)"
   ]
  },
  {
   "cell_type": "code",
   "execution_count": 5,
   "metadata": {},
   "outputs": [
    {
     "name": "stdout",
     "output_type": "stream",
     "text": [
      "             date      county    state     fips  cases  deaths\n",
      "0      2021-09-26     Autauga  Alabama   1001.0   9667   137.0\n",
      "1      2021-09-26     Baldwin  Alabama   1003.0  36242   495.0\n",
      "2      2021-09-26     Barbour  Alabama   1005.0   3472    70.0\n",
      "3      2021-09-26        Bibb  Alabama   1007.0   4093    81.0\n",
      "4      2021-09-26      Blount  Alabama   1009.0   9720   157.0\n",
      "...           ...         ...      ...      ...    ...     ...\n",
      "97469  2021-10-25  Sweetwater  Wyoming  56037.0   7469    79.0\n",
      "97470  2021-10-25       Teton  Wyoming  56039.0   5152    14.0\n",
      "97471  2021-10-25       Uinta  Wyoming  56041.0   3794    26.0\n",
      "97472  2021-10-25    Washakie  Wyoming  56043.0   1689    33.0\n",
      "97473  2021-10-25      Weston  Wyoming  56045.0   1041     9.0\n",
      "\n",
      "[97474 rows x 6 columns]\n"
     ]
    }
   ],
   "source": [
    "## Recent data 10days!\n",
    "df_counties_recent = pd.read_csv('./us-counties-recent.csv')\n",
    "print(df_counties_recent)\n",
    "\n"
   ]
  },
  {
   "cell_type": "code",
   "execution_count": 10,
   "metadata": {},
   "outputs": [
    {
     "name": "stdout",
     "output_type": "stream",
     "text": [
      "<bound method NDFrame.head of               cases  deaths\n",
      "date                       \n",
      "2021-01-01  2858383   94577\n",
      "2021-01-02  2904414   94955\n",
      "2021-01-03  2929990   95298\n",
      "2021-01-04  3012415   95782\n",
      "2021-01-05  3050334   96386\n",
      "...             ...     ...\n",
      "2021-10-21  6921705  147775\n",
      "2021-10-22  6935048  147964\n",
      "2021-10-23  6945063  148082\n",
      "2021-10-24  6951686  148117\n",
      "2021-10-25  6965619  148205\n",
      "\n",
      "[298 rows x 2 columns]> <bound method NDFrame.head of               cases  deaths\n",
      "date                       \n",
      "2021-01-01  4947203   76156\n",
      "2021-01-02  4995511   76896\n",
      "2021-01-03  5020243   77213\n",
      "2021-01-04  5055488   77616\n",
      "2021-01-05  5089556   78582\n",
      "...             ...     ...\n",
      "2021-10-21  9415265  141883\n",
      "2021-10-22  9442356  142520\n",
      "2021-10-23  9449674  142528\n",
      "2021-10-24  9452914  142528\n",
      "2021-10-25  9483760  142797\n",
      "\n",
      "[298 rows x 2 columns]> <bound method NDFrame.head of                cases  deaths\n",
      "date                        \n",
      "2021-01-01   7650918  119323\n",
      "2021-01-02   7769935  120077\n",
      "2021-01-03   7852679  120564\n",
      "2021-01-04   7927037  121236\n",
      "2021-01-05   8025609  122297\n",
      "...              ...     ...\n",
      "2021-10-21  18840752  302023\n",
      "2021-10-22  18863592  303000\n",
      "2021-10-23  18870112  303249\n",
      "2021-10-24  18873628  303336\n",
      "2021-10-25  18903818  304094\n",
      "\n",
      "[298 rows x 2 columns]> <bound method NDFrame.head of               cases  deaths\n",
      "date                       \n",
      "2021-01-01  4565171   55457\n",
      "2021-01-02  4642284   55948\n",
      "2021-01-03  4710519   56131\n",
      "2021-01-04  4769528   56608\n",
      "2021-01-05  4833196   57655\n",
      "...             ...     ...\n",
      "2021-10-21  9804800  136995\n",
      "2021-10-22  9828504  137317\n",
      "2021-10-23  9834345  137390\n",
      "2021-10-24  9837929  137415\n",
      "2021-10-25  9867955  137712\n",
      "\n",
      "[298 rows x 2 columns]>\n",
      "(298, 2) (298, 2) (298, 2) (298, 2)\n"
     ]
    }
   ],
   "source": [
    "import pandas as pd\n",
    "import datetime\n",
    "population = pd.read_csv(\"../uscities_population.csv\")\n",
    "coest = pd.read_csv(\"../co-est2020.csv\", encoding='ISO-8859-1')\n",
    "region_states = pd.read_csv(\"./us-states.csv\")\n",
    "#print(population)\n",
    "NE_region = {\"Maine\", \"New Hampshire\", \"Vermont\",\n",
    "\"Massachusetts\", \"Rhode Island\", \"Connecticut\", \"New York\", \"New Jersey\", \"Pennsylvania\"}\n",
    "\n",
    "MW_region = {\"Ohio\",\n",
    "\"Michigan\", \"Indiana\", \"Wisconsin\", \"Illinois\", \"Minnesota\", \"Iowa\",\n",
    "\"Missouri\", \"North Dakota\", \"South Dakota\", \"Nebraska\", \"Kansas\"}\n",
    "S_region = {\"Delaware\", \"Maryland\", \"Virginia\", \"West Virginia\", \"Kentucky\", \"North Carolina\", \"South Carolina\",\n",
    "\"Tennessee\", \"Georgia\", \"Florida\", \"Alabama\", \"Mississippi\",\n",
    "\"Arkansas\", \"Louisiana\", \"Texas\", \"Oklahoma\"}\n",
    "W_region = {\"Montana\", \"Idaho\", \"Wyoming\", \"Colorado\", \"New Mexico\",\n",
    "\"Arizona\", \"Utah\", \"Nevada\", \"California\", \"Oregon\", \"Washington\",\n",
    "\"Alaska\", \"Hawaii\"}\n",
    "region_states['date'] = pd.to_datetime(region_states['date'], format='%Y-%m-%d')\n",
    "region_states = region_states[region_states['date'] >= pd.Timestamp(2021, 1, 1) ]\n",
    "# NE_df = population[population['state_name'].isin(NE_region)]\n",
    "# MW_df = population[population['state_name'].isin(MW_region)]\n",
    "# S_df = population[population['state_name'].isin(S_region)]\n",
    "# W_df = population[population['state_name'].isin(W_region)]\n",
    "# print(sum(NE_df))\n",
    "agg_funtion = {\"cases\":'sum', \"deaths\":'sum' }\n",
    "NE_region_covid = region_states[region_states['state'].isin(NE_region)][['date','cases','deaths']]\n",
    "NE_region_covid = NE_region_covid.groupby(NE_region_covid['date']).aggregate(agg_funtion)\n",
    "\n",
    "MW_region_covid = region_states[region_states['state'].isin(MW_region)]\n",
    "MW_region_covid = MW_region_covid.groupby(MW_region_covid['date']).aggregate(agg_funtion)\n",
    "S_region_covid = region_states[region_states['state'].isin(S_region)]\n",
    "S_region_covid = S_region_covid.groupby(S_region_covid['date']).aggregate(agg_funtion)\n",
    "W_region_covid = region_states[region_states['state'].isin(W_region)]\n",
    "W_region_covid = W_region_covid.groupby(W_region_covid['date']).aggregate(agg_funtion)\n",
    "print(NE_region_covid.head, MW_region_covid.head,S_region_covid.head, W_region_covid.head)\n",
    "print(NE_region_covid.shape, MW_region_covid.shape,S_region_covid.shape, W_region_covid.shape)"
   ]
  },
  {
   "cell_type": "code",
   "execution_count": 16,
   "metadata": {},
   "outputs": [
    {
     "name": "stdout",
     "output_type": "stream",
     "text": [
      "['NY' 'CA' 'IL' 'FL' 'TX' 'PA' 'GA' 'DC' 'MA' 'AZ' 'WA' 'MI' 'MN' 'CO'\n",
      " 'MD' 'NV' 'OR' 'MO' 'OH' 'IN' 'NC' 'VA' 'WI' 'RI' 'UT' 'TN' 'LA' 'KY'\n",
      " 'OK' 'CT' 'NE' 'HI' 'NM' 'AL' 'SC' 'KS' 'IA' 'AR' 'ID' 'MS' 'PR' 'NJ'\n",
      " 'AK' 'NH' 'ND' 'ME' 'SD' 'WV' 'MT' 'DE' 'VT' 'WY'] (52,)\n"
     ]
    }
   ],
   "source": [
    "pop_state = population['state_id']\n",
    "state_np = pop_state.drop_duplicates().to_numpy()"
   ]
  },
  {
   "cell_type": "code",
   "execution_count": 11,
   "metadata": {},
   "outputs": [
    {
     "name": "stdout",
     "output_type": "stream",
     "text": [
      "      SUMLEV  REGION  DIVISION  STATE  COUNTY   STNAME            CTYNAME  \\\n",
      "0         40       3         6      1       0  Alabama            Alabama   \n",
      "1         50       3         6      1       1  Alabama     Autauga County   \n",
      "2         50       3         6      1       3  Alabama     Baldwin County   \n",
      "3         50       3         6      1       5  Alabama     Barbour County   \n",
      "4         50       3         6      1       7  Alabama        Bibb County   \n",
      "...      ...     ...       ...    ...     ...      ...                ...   \n",
      "3189      50       4         8     56      37  Wyoming  Sweetwater County   \n",
      "3190      50       4         8     56      39  Wyoming       Teton County   \n",
      "3191      50       4         8     56      41  Wyoming       Uinta County   \n",
      "3192      50       4         8     56      43  Wyoming    Washakie County   \n",
      "3193      50       4         8     56      45  Wyoming      Weston County   \n",
      "\n",
      "     CENSUS2010POP  ESTIMATESBASE2010  POPESTIMATE2010  ...  POPESTIMATE2012  \\\n",
      "0          4779736            4780118          4785514  ...          4816632   \n",
      "1            54571              54582            54761  ...            54970   \n",
      "2           182265             182263           183121  ...           190203   \n",
      "3            27457              27454            27325  ...            27172   \n",
      "4            22915              22904            22858  ...            22657   \n",
      "...            ...                ...              ...  ...              ...   \n",
      "3189         43806              43806            43580  ...            45032   \n",
      "3190         21294              21298            21298  ...            21643   \n",
      "3191         21118              21121            21090  ...            21008   \n",
      "3192          8533               8528             8531  ...             8410   \n",
      "3193          7208               7208             7198  ...             7075   \n",
      "\n",
      "      POPESTIMATE2013  POPESTIMATE2014  POPESTIMATE2015  POPESTIMATE2016  \\\n",
      "0             4831586          4843737          4854803          4866824   \n",
      "1               54747            54922            54903            55302   \n",
      "2              194978           199306           203101           207787   \n",
      "3               26946            26768            26300            25828   \n",
      "4               22510            22541            22553            22590   \n",
      "...               ...              ...              ...              ...   \n",
      "3189            45189            44996            44780            44319   \n",
      "3190            22335            22801            23083            23255   \n",
      "3191            20969            20835            20777            20711   \n",
      "3192             8417             8277             8282             8180   \n",
      "3193             7132             7134             7202             7228   \n",
      "\n",
      "      POPESTIMATE2017  POPESTIMATE2018  POPESTIMATE2019  POPESTIMATE042020  \\\n",
      "0             4877989          4891628          4907965            4920706   \n",
      "1               55448            55533            55769              56130   \n",
      "2              212737           218071           223565             227989   \n",
      "3               25169            24887            24657              24652   \n",
      "4               22532            22300            22313              22199   \n",
      "...               ...              ...              ...                ...   \n",
      "3189            43663            43188            42917              42717   \n",
      "3190            23383            23261            23385              23453   \n",
      "3191            20449            20299            20196              20169   \n",
      "3192             8013             7886             7824               7756   \n",
      "3193             6962             6895             6880               6752   \n",
      "\n",
      "      POPESTIMATE2020  \n",
      "0             4921532  \n",
      "1               56145  \n",
      "2              229287  \n",
      "3               24589  \n",
      "4               22136  \n",
      "...               ...  \n",
      "3189            42673  \n",
      "3190            23497  \n",
      "3191            20215  \n",
      "3192             7760  \n",
      "3193             6743  \n",
      "\n",
      "[3194 rows x 21 columns]\n"
     ]
    }
   ],
   "source": [
    "print(coest)"
   ]
  },
  {
   "cell_type": "code",
   "execution_count": null,
   "metadata": {},
   "outputs": [],
   "source": []
  }
 ],
 "metadata": {
  "interpreter": {
   "hash": "7579331c971590dd311d2d2acbf86f2cf3f37f3666c876de32d10639d5004ced"
  },
  "kernelspec": {
   "display_name": "Python 3.8.11 64-bit ('torch1.5': conda)",
   "name": "python3"
  },
  "language_info": {
   "codemirror_mode": {
    "name": "ipython",
    "version": 3
   },
   "file_extension": ".py",
   "mimetype": "text/x-python",
   "name": "python",
   "nbconvert_exporter": "python",
   "pygments_lexer": "ipython3",
   "version": "3.8.11"
  },
  "orig_nbformat": 4
 },
 "nbformat": 4,
 "nbformat_minor": 2
}
