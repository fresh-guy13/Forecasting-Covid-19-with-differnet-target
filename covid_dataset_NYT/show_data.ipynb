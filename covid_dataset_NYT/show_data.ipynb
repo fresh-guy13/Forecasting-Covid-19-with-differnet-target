{
 "cells": [
  {
   "cell_type": "code",
   "execution_count": 66,
   "metadata": {},
   "outputs": [
    {
     "name": "stdout",
     "output_type": "stream",
     "text": [
      "{'AL': 'Alabama', 'AK': 'Alaska', 'AZ': 'Arizona', 'AR': 'Arkansas', 'CA': 'California', 'CO': 'Colorado', 'CT': 'Connecticut', 'DE': 'Delaware', 'DC': 'District of Columbia', 'FL': 'Florida', 'GA': 'Georgia', 'HI': 'Hawaii', 'ID': 'Idaho', 'IL': 'Illinois', 'IN': 'Indiana', 'IA': 'Iowa', 'KS': 'Kansas', 'KY': 'Kentucky', 'LA': 'Louisiana', 'ME': 'Maine', 'MD': 'Maryland', 'MA': 'Massachusetts', 'MI': 'Michigan', 'MN': 'Minnesota', 'MS': 'Mississippi', 'MO': 'Missouri', 'MT': 'Montana', 'NE': 'Nebraska', 'NV': 'Nevada', 'NH': 'New Hampshire', 'NJ': 'New Jersey', 'NM': 'New Mexico', 'NY': 'New York', 'NC': 'North Carolina', 'ND': 'North Dakota', 'OH': 'Ohio', 'OK': 'Oklahoma', 'OR': 'Oregon', 'PA': 'Pennsylvania', 'RI': 'Rhode Island', 'SC': 'South Carolina', 'SD': 'South Dakota', 'TN': 'Tennessee', 'TX': 'Texas', 'UT': 'Utah', 'VT': 'Vermont', 'VA': 'Virginia', 'WA': 'Washington', 'WV': 'West Virginia', 'WI': 'Wisconsin', 'WY': 'Wyoming'}\n"
     ]
    }
   ],
   "source": [
    "import pandas as pd\n",
    "df_state = pd.read_csv('./us-states.csv')\n",
    "\n",
    "#State-code dict\n",
    "Code_map = {}\n",
    "df = pd.read_csv('../state_code.csv')\n",
    "for idx, row in df.iterrows():\n",
    "    Code_map[row['Code']] =  row['State']\n",
    "print(Code_map)\n"
   ]
  },
  {
   "cell_type": "code",
   "execution_count": 73,
   "metadata": {},
   "outputs": [
    {
     "name": "stdout",
     "output_type": "stream",
     "text": [
      "        Areaname  LND010190D    State\n",
      "2        Autauga      604.49  Alabama\n",
      "3        Baldwin     2027.08  Alabama\n",
      "4        Barbour      904.59  Alabama\n",
      "5           Bibb      625.50  Alabama\n",
      "6         Blount      650.65  Alabama\n",
      "...          ...         ...      ...\n",
      "3193  Sweetwater    10491.73  Wyoming\n",
      "3194       Teton     4221.96  Wyoming\n",
      "3195       Uinta     2087.66  Wyoming\n",
      "3196    Washakie     2242.85  Wyoming\n",
      "3197      Weston     2400.13  Wyoming\n",
      "\n",
      "[3145 rows x 3 columns]\n"
     ]
    }
   ],
   "source": [
    "df_counties = pd.read_csv('./us-counties.csv')\n",
    "\n",
    "df_land_counties = pd.read_excel('../LND01.xls')\n",
    "df_land_counties = df_land_counties[['Areaname','LND010190D']]\n",
    "drop_list = []\n",
    "for idx, row in df_land_counties.iterrows():\n",
    "    if row[\"Areaname\"][-4] != ',':\n",
    "       drop_list.append(idx)\n",
    "    else:\n",
    "        df_land_counties.at[idx, \"State\"] = Code_map[row['Areaname'][-2:]]\n",
    "        df_land_counties.at[idx, 'Areaname'] = row['Areaname'][:-4]\n",
    "        \n",
    "df_land_counties = df_land_counties.drop(drop_list)\n",
    "\n",
    "\n"
   ]
  },
  {
   "cell_type": "code",
   "execution_count": 55,
   "metadata": {},
   "outputs": [
    {
     "name": "stdout",
     "output_type": "stream",
     "text": [
      "       STNAME     CTYNAME  POPESTIMATE2020\n",
      "1     Alabama     Autauga            56145\n",
      "2     Alabama     Baldwin           229287\n",
      "3     Alabama     Barbour            24589\n",
      "4     Alabama        Bibb            22136\n",
      "5     Alabama      Blount            57879\n",
      "...       ...         ...              ...\n",
      "3189  Wyoming  Sweetwater            42673\n",
      "3190  Wyoming       Teton            23497\n",
      "3191  Wyoming       Uinta            20215\n",
      "3192  Wyoming    Washakie             7760\n",
      "3193  Wyoming      Weston             6743\n",
      "\n",
      "[3069 rows x 3 columns]\n"
     ]
    }
   ],
   "source": [
    "df_pop_counties = pd.read_csv('../co-est2020.csv', encoding = \"ISO-8859-1\")\n",
    "df_pop_counties = df_pop_counties[['STNAME', 'CTYNAME','POPESTIMATE2020']]\n",
    "drop_list = []\n",
    "\n",
    "## Remove Total population fo df_pop_counties!\n",
    "for idx, row in df_pop_counties.iterrows():\n",
    "    if len(row['CTYNAME']) == len(row['STNAME']):\n",
    "       drop_list.append(idx)\n",
    "    else:\n",
    "        df_pop_counties.at[idx, 'CTYNAME'] = row['CTYNAME'][:-7]\n",
    "df_pop_counties = df_pop_counties.drop(drop_list)\n",
    "\n",
    "print(df_pop_counties)"
   ]
  },
  {
   "cell_type": "markdown",
   "metadata": {},
   "source": [
    "### DF population density"
   ]
  },
  {
   "cell_type": "code",
   "execution_count": 89,
   "metadata": {},
   "outputs": [
    {
     "name": "stdout",
     "output_type": "stream",
     "text": [
      "{'New York': 27545, 'California': 8837, 'Illinois': 5423, 'Florida': 8413, 'Texas': 8293, 'Pennsylvania': 6042, 'Georgia': 2695, 'District of Columbia': 4457, 'Massachusetts': 7619, 'Arizona': 4436, 'Washington': 3469, 'Michigan': 3980, 'Minnesota': 4283, 'Colorado': 4102, 'Maryland': 34277, 'Nevada': 2475, 'Oregon': 3700, 'Missouri': 3644, 'Ohio': 3460, 'Indiana': 2205, 'North Carolina': 2053, 'Virginia': 4948, 'Wisconsin': 3192, 'Rhode Island': 6320, 'Utah': 3028, 'Tennessee': 1004, 'Louisiana': 2628, 'Kentucky': 6406, 'Oklahoma': 1482, 'Connecticut': 3470, 'Nebraska': 1702, 'Hawaii': 5749, 'New Mexico': 3237, 'Alabama': 1223, 'South Carolina': 1490, 'Kansas': 2475, 'Iowa': 2300, 'Arkansas': 1086, 'Idaho': 1436, 'Mississippi': 2229, 'Puerto Rico': 5949, 'New Jersey': 22246, 'Alaska': 838, 'New Hampshire': 1315, 'North Dakota': 1293, 'Maine': 1185, 'South Dakota': 1205, 'West Virginia': 1965, 'Montana': 1439, 'Delaware': 2536, 'Vermont': 1974, 'Wyoming': 1378}\n",
      "{'New York': 'New York', 'California': 'Los Angeles', 'Illinois': 'Cook', 'Florida': 'Miami-Dade', 'Texas': 'Starr', 'Pennsylvania': 'Delaware', 'Georgia': 'DeKalb', 'District of Columbia': 'District of Columbia', 'Massachusetts': 'Middlesex', 'Arizona': 'Yuma', 'Washington': 'King', 'Michigan': 'Wayne', 'Minnesota': 'Washington', 'Colorado': 'Arapahoe', 'Maryland': 'Montgomery', 'Nevada': 'Clark', 'Oregon': 'Marion', 'Missouri': 'St. Louis', 'Ohio': 'Cuyahoga', 'Indiana': 'Porter', 'North Carolina': 'Union', 'Virginia': 'Fairfax', 'Wisconsin': 'Milwaukee', 'Rhode Island': 'Providence', 'Utah': 'Salt Lake', 'Tennessee': 'Hamilton', 'Louisiana': 'Jefferson', 'Kentucky': 'Jefferson', 'Oklahoma': 'Alfalfa', 'Connecticut': 'Fairfield', 'Nebraska': 'Douglas', 'Hawaii': 'Honolulu', 'New Mexico': 'Eddy', 'Alabama': 'Jefferson', 'South Carolina': 'Berkeley', 'Kansas': 'Sedgwick', 'Iowa': 'Scott', 'Arkansas': 'Desha', 'Idaho': 'Latah', 'Mississippi': 'Lafayette', 'Puerto Rico': 'Caguas', 'New Jersey': 'Hudson', 'Alaska': 'Ketchikan Gateway', 'New Hampshire': 'Hillsborough', 'North Dakota': 'Sioux', 'Maine': 'Cumberland', 'South Dakota': 'Lincoln', 'West Virginia': 'Jefferson', 'Montana': 'Gallatin', 'Delaware': 'New Castle', 'Vermont': 'Chittenden', 'Wyoming': 'Teton'}\n"
     ]
    }
   ],
   "source": [
    "df_density = pd.read_csv(\"../uscities_population.csv\")\n",
    "state_den = {}\n",
    "state_county_highD = {}\n",
    "for idx, row in df_density.iterrows():\n",
    "    if row['state_name'] not in state_den:\n",
    "        state_den[row['state_name']] = row['density']\n",
    "        state_county_highD[row['state_name']] = row['county_name']\n",
    "    else:\n",
    "        if (state_den[row['state_name']] < row['density']):\n",
    "            state_den[row['state_name']] = row['density']\n",
    "            state_county_highD[row['state_name']] = row['county_name']\n",
    "\n",
    "print(state_den)\n",
    "print(state_county_highD)"
   ]
  },
  {
   "cell_type": "code",
   "execution_count": 5,
   "metadata": {},
   "outputs": [
    {
     "name": "stdout",
     "output_type": "stream",
     "text": [
      "             date      county    state     fips  cases  deaths\n",
      "0      2021-09-26     Autauga  Alabama   1001.0   9667   137.0\n",
      "1      2021-09-26     Baldwin  Alabama   1003.0  36242   495.0\n",
      "2      2021-09-26     Barbour  Alabama   1005.0   3472    70.0\n",
      "3      2021-09-26        Bibb  Alabama   1007.0   4093    81.0\n",
      "4      2021-09-26      Blount  Alabama   1009.0   9720   157.0\n",
      "...           ...         ...      ...      ...    ...     ...\n",
      "97469  2021-10-25  Sweetwater  Wyoming  56037.0   7469    79.0\n",
      "97470  2021-10-25       Teton  Wyoming  56039.0   5152    14.0\n",
      "97471  2021-10-25       Uinta  Wyoming  56041.0   3794    26.0\n",
      "97472  2021-10-25    Washakie  Wyoming  56043.0   1689    33.0\n",
      "97473  2021-10-25      Weston  Wyoming  56045.0   1041     9.0\n",
      "\n",
      "[97474 rows x 6 columns]\n"
     ]
    }
   ],
   "source": [
    "## Recent data 10days!\n",
    "df_counties_recent = pd.read_csv('./us-counties-recent.csv')\n",
    "print(df_counties_recent)\n",
    "\n"
   ]
  },
  {
   "cell_type": "code",
   "execution_count": null,
   "metadata": {},
   "outputs": [],
   "source": []
  }
 ],
 "metadata": {
  "interpreter": {
   "hash": "7579331c971590dd311d2d2acbf86f2cf3f37f3666c876de32d10639d5004ced"
  },
  "kernelspec": {
   "display_name": "Python 3.8.11 64-bit ('torch1.5': conda)",
   "name": "python3"
  },
  "language_info": {
   "codemirror_mode": {
    "name": "ipython",
    "version": 3
   },
   "file_extension": ".py",
   "mimetype": "text/x-python",
   "name": "python",
   "nbconvert_exporter": "python",
   "pygments_lexer": "ipython3",
   "version": "3.8.11"
  },
  "orig_nbformat": 4
 },
 "nbformat": 4,
 "nbformat_minor": 2
}
