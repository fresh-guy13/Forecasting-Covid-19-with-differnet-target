{
 "cells": [
  {
   "cell_type": "code",
   "execution_count": 1,
   "metadata": {},
   "outputs": [
    {
     "name": "stdout",
     "output_type": "stream",
     "text": [
      "             date          state  fips   cases  deaths\n",
      "0      2020-01-21     Washington    53       1       0\n",
      "1      2020-01-22     Washington    53       1       0\n",
      "2      2020-01-23     Washington    53       1       0\n",
      "3      2020-01-24       Illinois    17       1       0\n",
      "4      2020-01-24     Washington    53       1       0\n",
      "...           ...            ...   ...     ...     ...\n",
      "33153  2021-10-25       Virginia    51  918700   13745\n",
      "33154  2021-10-25     Washington    53  718388    8531\n",
      "33155  2021-10-25  West Virginia    54  267398    4292\n",
      "33156  2021-10-25      Wisconsin    55  872164    9299\n",
      "33157  2021-10-25        Wyoming    56  101083    1149\n",
      "\n",
      "[33158 rows x 5 columns]\n"
     ]
    }
   ],
   "source": [
    "import pandas as pd\n",
    "df_state = pd.read_csv('./us-states.csv')\n",
    "print(df_state)\n"
   ]
  },
  {
   "cell_type": "code",
   "execution_count": 2,
   "metadata": {},
   "outputs": [
    {
     "name": "stdout",
     "output_type": "stream",
     "text": [
      "               date      county       state     fips  cases  deaths\n",
      "0        2020-01-21   Snohomish  Washington  53061.0      1     0.0\n",
      "1        2020-01-22   Snohomish  Washington  53061.0      1     0.0\n",
      "2        2020-01-23   Snohomish  Washington  53061.0      1     0.0\n",
      "3        2020-01-24        Cook    Illinois  17031.0      1     0.0\n",
      "4        2020-01-24   Snohomish  Washington  53061.0      1     0.0\n",
      "...             ...         ...         ...      ...    ...     ...\n",
      "1852350  2021-10-25  Sweetwater     Wyoming  56037.0   7469    79.0\n",
      "1852351  2021-10-25       Teton     Wyoming  56039.0   5152    14.0\n",
      "1852352  2021-10-25       Uinta     Wyoming  56041.0   3794    26.0\n",
      "1852353  2021-10-25    Washakie     Wyoming  56043.0   1689    33.0\n",
      "1852354  2021-10-25      Weston     Wyoming  56045.0   1041     9.0\n",
      "\n",
      "[1852355 rows x 6 columns]\n"
     ]
    }
   ],
   "source": [
    "df_counties = pd.read_csv('./us-counties.csv')\n",
    "print(df_counties)"
   ]
  },
  {
   "cell_type": "code",
   "execution_count": 5,
   "metadata": {},
   "outputs": [
    {
     "name": "stdout",
     "output_type": "stream",
     "text": [
      "             date      county    state     fips  cases  deaths\n",
      "0      2021-09-26     Autauga  Alabama   1001.0   9667   137.0\n",
      "1      2021-09-26     Baldwin  Alabama   1003.0  36242   495.0\n",
      "2      2021-09-26     Barbour  Alabama   1005.0   3472    70.0\n",
      "3      2021-09-26        Bibb  Alabama   1007.0   4093    81.0\n",
      "4      2021-09-26      Blount  Alabama   1009.0   9720   157.0\n",
      "...           ...         ...      ...      ...    ...     ...\n",
      "97469  2021-10-25  Sweetwater  Wyoming  56037.0   7469    79.0\n",
      "97470  2021-10-25       Teton  Wyoming  56039.0   5152    14.0\n",
      "97471  2021-10-25       Uinta  Wyoming  56041.0   3794    26.0\n",
      "97472  2021-10-25    Washakie  Wyoming  56043.0   1689    33.0\n",
      "97473  2021-10-25      Weston  Wyoming  56045.0   1041     9.0\n",
      "\n",
      "[97474 rows x 6 columns]\n"
     ]
    }
   ],
   "source": [
    "## Recent data 10days!\n",
    "df_counties_recent = pd.read_csv('./us-counties-recent.csv')\n",
    "print(df_counties_recent)\n",
    "\n"
   ]
  },
  {
   "cell_type": "code",
   "execution_count": null,
   "metadata": {},
   "outputs": [],
   "source": []
  }
 ],
 "metadata": {
  "interpreter": {
   "hash": "7579331c971590dd311d2d2acbf86f2cf3f37f3666c876de32d10639d5004ced"
  },
  "kernelspec": {
   "display_name": "Python 3.8.11 64-bit ('torch1.5': conda)",
   "name": "python3"
  },
  "language_info": {
   "codemirror_mode": {
    "name": "ipython",
    "version": 3
   },
   "file_extension": ".py",
   "mimetype": "text/x-python",
   "name": "python",
   "nbconvert_exporter": "python",
   "pygments_lexer": "ipython3",
   "version": "3.8.11"
  },
  "orig_nbformat": 4
 },
 "nbformat": 4,
 "nbformat_minor": 2
}
